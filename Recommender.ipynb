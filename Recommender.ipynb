{
 "cells": [
  {
   "cell_type": "code",
   "execution_count": 1,
   "metadata": {},
   "outputs": [],
   "source": [
    "import numpy as np\n",
    "import pandas as pd\n",
    "import pickle\n",
    "from recommender import load_dataset,train_model"
   ]
  },
  {
   "cell_type": "code",
   "execution_count": null,
   "metadata": {},
   "outputs": [],
   "source": [
    "train,test,numUser,numBook=load_dataset(0.9)"
   ]
  },
  {
   "cell_type": "code",
   "execution_count": null,
   "metadata": {},
   "outputs": [],
   "source": [
    "user,movie,costs=train_model(numU,numM,train,test,30,50,yhat,0.001,0.01)"
   ]
  },
  {
   "cell_type": "code",
   "execution_count": 50,
   "metadata": {},
   "outputs": [],
   "source": [
    "books=pd.read_csv('/books.csv')"
   ]
  },
  {
   "cell_type": "code",
   "execution_count": 104,
   "metadata": {},
   "outputs": [],
   "source": [
    "def train(Y,numIter,learning_rate,Lambda):\n",
    "    costs=[]\n",
    "    userMatrix=np.random.rand(1,20)\n",
    "    movieBias=np.zeros((10000))\n",
    "    z=len(Y)\n",
    "    for m in range(numIter):\n",
    "        totalError=0;\n",
    "        np.random.shuffle(Y)\n",
    "        \n",
    "        for j,r in Y:\n",
    "            pred = np.dot(userMatrix[0,:],movieMatrix[:,j])+movieBias[j]\n",
    "            \n",
    "            error=pred-r\n",
    "            totalError+=((pow(error,2) + Lambda*(np.dot(userMatrix[0,:],userMatrix[0,:].T)+np.dot(movieMatrix[:,j],movieMatrix[:,j].T)))/z)\n",
    "           \n",
    "            movieBias[j]-=learning_rate*(error)\n",
    "            userMatrix[0,:]-=learning_rate*( error*movieMatrix[:,j].T  +  Lambda*userMatrix[0,:])\n",
    "               \n",
    "        print(\"Cost after \"+str(m+1)+\" Iteration is: \"+str(totalError))\n",
    "        costs.append(totalError)\n",
    "    return userMatrix,costs    \n",
    "        "
   ]
  },
  {
   "cell_type": "code",
   "execution_count": 105,
   "metadata": {},
   "outputs": [
    {
     "name": "stdout",
     "output_type": "stream",
     "text": [
      "Cost after 1 Iteration is: 3.4141421484911336\n",
      "Cost after 2 Iteration is: 3.3500278137664434\n",
      "Cost after 3 Iteration is: 3.290752558850008\n",
      "Cost after 4 Iteration is: 3.2362276447097837\n",
      "Cost after 5 Iteration is: 3.186203519218225\n",
      "Cost after 6 Iteration is: 3.139713491397598\n",
      "Cost after 7 Iteration is: 3.0966296032482585\n",
      "Cost after 8 Iteration is: 3.056967113834349\n",
      "Cost after 9 Iteration is: 3.0203142868290636\n",
      "Cost after 10 Iteration is: 2.986164177045068\n",
      "Cost after 11 Iteration is: 2.954489410065759\n",
      "Cost after 12 Iteration is: 2.925113759071134\n",
      "Cost after 13 Iteration is: 2.8977018007780684\n",
      "Cost after 14 Iteration is: 2.872081236894002\n",
      "Cost after 15 Iteration is: 2.8482190704957975\n",
      "Cost after 16 Iteration is: 2.8260349563663008\n",
      "Cost after 17 Iteration is: 2.805236071644346\n",
      "Cost after 18 Iteration is: 2.7856310094606545\n",
      "Cost after 19 Iteration is: 2.7672221617878905\n",
      "Cost after 20 Iteration is: 2.749848229514887\n",
      "Cost after 21 Iteration is: 2.733560791789988\n",
      "Cost after 22 Iteration is: 2.718192571280159\n",
      "Cost after 23 Iteration is: 2.70357750725287\n",
      "Cost after 24 Iteration is: 2.6898401399103786\n",
      "Cost after 25 Iteration is: 2.6767303408267864\n",
      "Cost after 26 Iteration is: 2.6643266796527136\n",
      "Cost after 27 Iteration is: 2.6523413911611935\n",
      "Cost after 28 Iteration is: 2.6409644623293254\n",
      "Cost after 29 Iteration is: 2.629999079698958\n",
      "Cost after 30 Iteration is: 2.619475910857301\n",
      "Cost after 31 Iteration is: 2.6092596311176592\n",
      "Cost after 32 Iteration is: 2.5994576654750037\n",
      "Cost after 33 Iteration is: 2.5900091888166394\n",
      "Cost after 34 Iteration is: 2.5808573544997953\n",
      "Cost after 35 Iteration is: 2.571998414853671\n",
      "Cost after 36 Iteration is: 2.563390861848826\n",
      "Cost after 37 Iteration is: 2.5550520827355525\n",
      "Cost after 38 Iteration is: 2.5469294779706453\n",
      "Cost after 39 Iteration is: 2.539034622163686\n",
      "Cost after 40 Iteration is: 2.531295580779501\n",
      "Cost after 41 Iteration is: 2.5236730508211904\n",
      "Cost after 42 Iteration is: 2.516213451120234\n",
      "Cost after 43 Iteration is: 2.5088994769820356\n",
      "Cost after 44 Iteration is: 2.5017156756842907\n",
      "Cost after 45 Iteration is: 2.494708074888991\n",
      "Cost after 46 Iteration is: 2.4877466140019577\n",
      "Cost after 47 Iteration is: 2.4809562108940217\n",
      "Cost after 48 Iteration is: 2.474225121340271\n",
      "Cost after 49 Iteration is: 2.4675648123667426\n",
      "Cost after 50 Iteration is: 2.461012915573888\n",
      "Cost after 51 Iteration is: 2.4545268819516664\n",
      "Cost after 52 Iteration is: 2.448115127436163\n",
      "Cost after 53 Iteration is: 2.4417578565529086\n",
      "Cost after 54 Iteration is: 2.4354870801678374\n",
      "Cost after 55 Iteration is: 2.4292584654662863\n",
      "Cost after 56 Iteration is: 2.423104214378555\n",
      "Cost after 57 Iteration is: 2.416993060905402\n",
      "Cost after 58 Iteration is: 2.410930258575375\n",
      "Cost after 59 Iteration is: 2.4049173116497857\n",
      "Cost after 60 Iteration is: 2.398936915540651\n",
      "Cost after 61 Iteration is: 2.392998280038244\n",
      "Cost after 62 Iteration is: 2.3871020906318665\n",
      "Cost after 63 Iteration is: 2.3812423949891524\n",
      "Cost after 64 Iteration is: 2.375430716200192\n",
      "Cost after 65 Iteration is: 2.3696281688253116\n",
      "Cost after 66 Iteration is: 2.3638593184338292\n",
      "Cost after 67 Iteration is: 2.3581164631935034\n",
      "Cost after 68 Iteration is: 2.3524391949142407\n",
      "Cost after 69 Iteration is: 2.3467644607581595\n",
      "Cost after 70 Iteration is: 2.341111088414044\n",
      "Cost after 71 Iteration is: 2.335474747741178\n",
      "Cost after 72 Iteration is: 2.3299048604273396\n",
      "Cost after 73 Iteration is: 2.3243237446134684\n",
      "Cost after 74 Iteration is: 2.318783543852027\n",
      "Cost after 75 Iteration is: 2.313255139176093\n",
      "Cost after 76 Iteration is: 2.307752609904208\n",
      "Cost after 77 Iteration is: 2.302226075267011\n",
      "Cost after 78 Iteration is: 2.296782922897834\n",
      "Cost after 79 Iteration is: 2.291343076587335\n",
      "Cost after 80 Iteration is: 2.285889276546093\n",
      "Cost after 81 Iteration is: 2.2805061139734524\n",
      "Cost after 82 Iteration is: 2.275118549457225\n",
      "Cost after 83 Iteration is: 2.2697173379425997\n",
      "Cost after 84 Iteration is: 2.264407929704514\n",
      "Cost after 85 Iteration is: 2.2590651895086205\n",
      "Cost after 86 Iteration is: 2.2537574097819677\n",
      "Cost after 87 Iteration is: 2.2484511188985365\n",
      "Cost after 88 Iteration is: 2.243173383044094\n",
      "Cost after 89 Iteration is: 2.2379089774103944\n",
      "Cost after 90 Iteration is: 2.2326541963964437\n",
      "Cost after 91 Iteration is: 2.2274189300149017\n",
      "Cost after 92 Iteration is: 2.2221662779931632\n",
      "Cost after 93 Iteration is: 2.2169975675218434\n",
      "Cost after 94 Iteration is: 2.2118096569983847\n",
      "Cost after 95 Iteration is: 2.20664757574096\n",
      "Cost after 96 Iteration is: 2.2014913969623664\n",
      "Cost after 97 Iteration is: 2.1963522398149506\n",
      "Cost after 98 Iteration is: 2.1912218844135265\n",
      "Cost after 99 Iteration is: 2.186117633329279\n",
      "Cost after 100 Iteration is: 2.1810258501202964\n",
     
     
     ]
  
    }
   ],
   "source": [
    "myVec,costs=train(myrat,1000,0.001,0.01)"
   ]
  },
  {
   "cell_type": "code",
   "execution_count": 106,
   "metadata": {},
   "outputs": [
    {
     "data": {
      "text/plain": [
       "[<matplotlib.lines.Line2D at 0x1df1d398710>]"
      ]
     },
     "execution_count": 106,
     "metadata": {},
     "output_type": "execute_result"
    },
    {
     "data": {
      "image/png": "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\n",
      "text/plain": [
       "<Figure size 432x288 with 1 Axes>"
      ]
     },
     "metadata": {
      "needs_background": "light"
     },
     "output_type": "display_data"
    }
   ],
   "source": [
    "plt.plot(np.squeeze(costs))"
   ]
  },
  {
   "cell_type": "code",
   "execution_count": 107,
   "metadata": {},
   "outputs": [],
   "source": [
    "mypredRat=np.dot(myVec,M)"
   ]
  },
  {
   "cell_type": "code",
   "execution_count": 132,
   "metadata": {},
   "outputs": [],
   "source": [
    "topRecommend=np.argsort(mypredRat)[::-1]"
   ]
  },
  {
   "cell_type": "code",
   "execution_count": 111,
   "metadata": {},
   "outputs": [],
   "source": [
    "book=books.set_index('book_id')"
   ]
  },
  {
   "cell_type": "code",
   "execution_count": 134,
   "metadata": {},
   "outputs": [
    {
     "name": "stdout",
     "output_type": "stream",
     "text": [
      "book_id\n",
      "4                                   To Kill a Mockingbird\n",
      "25      Harry Potter and the Deathly Hallows (Harry Po...\n",
      "24      Harry Potter and the Goblet of Fire (Harry Pot...\n",
      "18      Harry Potter and the Prisoner of Azkaban (Harr...\n",
      "47                                         The Book Thief\n",
      "27      Harry Potter and the Half-Blood Prince (Harry ...\n",
      "2       Harry Potter and the Sorcerer's Stone (Harry P...\n",
      "21      Harry Potter and the Order of the Phoenix (Har...\n",
      "31                                               The Help\n",
      "13                                                   1984\n",
      "1                 The Hunger Games (The Hunger Games, #1)\n",
      "11                                        The Kite Runner\n",
      "30                                              Gone Girl\n",
      "39         A Game of Thrones (A Song of Ice and Fire, #1)\n",
      "8                                  The Catcher in the Rye\n",
      "143                           All the Light We Cannot See\n",
      "28                                      Lord of the Flies\n",
      "5                                        The Great Gatsby\n",
      "14                                            Animal Farm\n",
      "10                                    Pride and Prejudice\n",
      "23      Harry Potter and the Chamber of Secrets (Harry...\n",
      "32                                        Of Mice and Men\n",
      "19      The Fellowship of the Ring (The Lord of the Ri...\n",
      "66                                     Gone with the Wind\n",
      "225                                          East of Eden\n",
      "146                                         The Goldfinch\n",
      "144     Unbroken: A World War II Story of Survival, Re...\n",
      "70                        Ender's Game (Ender's Saga, #1)\n",
      "36                              The Giver (The Giver, #1)\n",
      "38                               The Time Traveler's Wife\n",
      "                              ...                        \n",
      "9660                       DC: The New Frontier, Volume 1\n",
      "8831                             Assata: An Autobiography\n",
      "7172                                         The Overcoat\n",
      "6794                                 Class A (Cherub, #2)\n",
      "5207    The Days Are Just Packed: A Calvin and Hobbes ...\n",
      "6112                                 Gorillas in the Mist\n",
      "9712                       Magic Binds (Kate Daniels, #9)\n",
      "6141    Harry Potter and the Order of the Phoenix (Har...\n",
      "6559                       Moab Is My Washpot (Memoir #1)\n",
      "6544                                    The Heretic Queen\n",
      "7639                                        درخت زیبای من\n",
      "7548    Systematic Theology: An Introduction to Biblic...\n",
      "7275    Far from the Tree: Parents, Children, and the ...\n",
      "3660                           The Wake (The Sandman #10)\n",
      "7457    Jaya: An Illustrated Retelling of the Mahabharata\n",
      "7807            Death Note, Vol. 4: Love (Death Note, #4)\n",
      "5400                   Don't Let the Pigeon Stay Up Late!\n",
      "8337                                       Fifth Business\n",
      "9374    Dream Team: How Michael, Magic, Larry, Charles...\n",
      "8681       More Tales of the City (Tales of the City, #2)\n",
      "9209                                          Roller Girl\n",
      "9983                                Blue exorcist, Tome 2\n",
      "9783                Batman, Volume 3: Death of the Family\n",
      "4225    The Art of Asking; or, How I Learned to Stop W...\n",
      "8880    Transmetropolitan, Vol. 5: Lonely City (Transm...\n",
      "9219    The Hole in Our Gospel: What does God expect o...\n",
      "7852                                  The Holiness of God\n",
      "7988                                           The Orenda\n",
      "6384    The Happiness Hypothesis: Finding Modern Truth...\n",
      "8946                                            The Divan\n",
      "Name: title, Length: 10000, dtype: object\n"
     ]
    }
   ],
   "source": [
    "for i in topRecommend:\n",
    "    print(book.loc[i+1,'title'])"
   ]
  },
  {
   "cell_type": "code",
   "execution_count": null,
   "metadata": {},
   "outputs": [],
   "source": []
  }
 ],
 "metadata": {
  "kernelspec": {
   "display_name": "Python 3",
   "language": "python",
   "name": "python3"
  },
  "language_info": {
   "codemirror_mode": {
    "name": "ipython",
    "version": 3
   },
   "file_extension": ".py",
   "mimetype": "text/x-python",
   "name": "python",
   "nbconvert_exporter": "python",
   "pygments_lexer": "ipython3",
   "version": "3.6.5"
  }
 },
 "nbformat": 4,
 "nbformat_minor": 2
}
