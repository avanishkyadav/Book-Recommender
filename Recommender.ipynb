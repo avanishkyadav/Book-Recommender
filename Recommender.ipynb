{
 "cells": [
  {
   "cell_type": "code",
   "execution_count": 1,
   "metadata": {},
   "outputs": [],
   "source": [
    "import numpy as np\n",
    "import pandas as pd\n",
    "import pickle\n",
    "from recommender import load_dataset,train_model"
   ]
  },
  {
   "cell_type": "code",
   "execution_count": 1,
   "metadata": {},
   "outputs": [],
   "source": [
    "train,test,numUser,numBook=load_dataset(0.9)"
   ]
  },
  {
   "cell_type": "code",
   "execution_count": 2,
   "metadata": {},
   "outputs": [],
   "source": [
    "user,movie,costs=train_model(numU,numM,train,test,30,50,yhat,0.001,0.01)"
   ]
  },
  {
   "cell_type": "code",
   "execution_count": 5,
   "metadata": {},
   "outputs": [],
   "source": [
    "books=pd.read_csv('/books.csv')"
   ]
  },
  {
   "cell_type": "code",
   "execution_count": 11,
   "metadata": {},
   "outputs": [],
   "source": [
    "def train(Y,numIter,learning_rate,Lambda):\n",
    "    costs=[]\n",
    "    userMatrix=np.random.rand(1,20)\n",
    "    movieBias=np.zeros((10000))\n",
    "    z=len(Y)\n",
    "    for m in range(numIter):\n",
    "        totalError=0;\n",
    "        np.random.shuffle(Y)\n",
    "        \n",
    "        for j,r in Y:\n",
    "            pred = np.dot(userMatrix[0,:],movieMatrix[:,j])+movieBias[j]\n",
    "            \n",
    "            error=pred-r\n",
    "            totalError+=((pow(error,2) + Lambda*(np.dot(userMatrix[0,:],userMatrix[0,:].T)+np.dot(movieMatrix[:,j],movieMatrix[:,j].T)))/z)\n",
    "           \n",
    "            movieBias[j]-=learning_rate*(error)\n",
    "            userMatrix[0,:]-=learning_rate*( error*movieMatrix[:,j].T  +  Lambda*userMatrix[0,:])\n",
    "               \n",
    "        print(\"Cost after \"+str(m+1)+\" Iteration is: \"+str(totalError))\n",
    "        costs.append(totalError)\n",
    "    return userMatrix,costs    \n",
    "  "
   ]
  },
  {
   "cell_type": "code",
   "execution_count": 12,
   "metadata": {},
   "outputs": [],
   "source": [
    "myVec,costs=train(myrat,1000,0.001,0.01)"
   ]
  },
  {
   "cell_type": "code",
   "execution_count": 13,
   "metadata": {},
   "outputs": [],
   "source": [
    "plt.plot(np.squeeze(costs))"
   ]
  },
  {
   "cell_type": "code",
   "execution_count": 14,
   "metadata": {},
   "outputs": [],
   "source": [
    "mypredRat=np.dot(myVec,M)"
   ]
  },
  {
   "cell_type": "code",
   "execution_count": 15,
   "metadata": {},
   "outputs": [],
   "source": [
    "topRecommend=np.argsort(mypredRat)[::-1]"
   ]
  },
  {
   "cell_type": "code",
   "execution_count": 16,
   "metadata": {},
   "outputs": [],
   "source": [
    "book=books.set_index('book_id')"
   ]
  },
  {
   "cell_type": "code",
   "execution_count": 17,
   "metadata": {},
   "outputs": [],
   "source": [
    "for i in topRecommend:\n",
    "    print(book.loc[i+1,'title'])"
   ]
  },
  {
   "cell_type": "code",
   "execution_count": null,
   "metadata": {},
   "outputs": [],
   "source": []
  }
 ],
 "metadata": {
  "kernelspec": {
   "display_name": "Python 3",
   "language": "python",
   "name": "python3"
  },
  "language_info": {
   "codemirror_mode": {
    "name": "ipython",
    "version": 3
   },
   "file_extension": ".py",
   "mimetype": "text/x-python",
   "name": "python",
   "nbconvert_exporter": "python",
   "pygments_lexer": "ipython3",
   "version": "3.6.5"
  }
 },
 "nbformat": 4,
 "nbformat_minor": 2
}
